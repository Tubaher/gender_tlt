{
 "cells": [
  {
   "cell_type": "code",
   "execution_count": 5,
   "id": "soviet-thunder",
   "metadata": {},
   "outputs": [],
   "source": [
    "from os.path import join\n",
    "from os import listdir\n",
    "from shutil import copy"
   ]
  },
  {
   "cell_type": "code",
   "execution_count": 2,
   "id": "recognized-gothic",
   "metadata": {},
   "outputs": [
    {
     "name": "stdout",
     "output_type": "stream",
     "text": [
      "/bin/bash: switchml: line 1: syntax error: unexpected end of file\r\n",
      "/bin/bash: error importing function definition for `switchml'\r\n",
      "/bin/bash: _moduleraw: line 1: syntax error: unexpected end of file\r\n",
      "/bin/bash: error importing function definition for `_moduleraw'\r\n",
      "/home/ubuntu/gender_project/utils\r\n"
     ]
    }
   ],
   "source": [
    "!pwd"
   ]
  },
  {
   "cell_type": "code",
   "execution_count": 3,
   "id": "fitting-invention",
   "metadata": {},
   "outputs": [],
   "source": [
    "images_folder = 'images'\n",
    "filtered = 'filtered'\n",
    "files = listdir(image_folder)"
   ]
  },
  {
   "cell_type": "code",
   "execution_count": null,
   "id": "colonial-feedback",
   "metadata": {},
   "outputs": [],
   "source": [
    "step = 4"
   ]
  },
  {
   "cell_type": "code",
   "execution_count": null,
   "id": "robust-senate",
   "metadata": {},
   "outputs": [],
   "source": [
    "for idx,file in enumerate(files):\n",
    "    if idx%step == 0:\n",
    "        copY(join(image_folder, file), filtered)\n"
   ]
  }
 ],
 "metadata": {
  "kernelspec": {
   "display_name": "Environment (conda_tlt3_gender)",
   "language": "python",
   "name": "conda_tlt3_gender"
  },
  "language_info": {
   "codemirror_mode": {
    "name": "ipython",
    "version": 3
   },
   "file_extension": ".py",
   "mimetype": "text/x-python",
   "name": "python",
   "nbconvert_exporter": "python",
   "pygments_lexer": "ipython3",
   "version": "3.7.10"
  }
 },
 "nbformat": 4,
 "nbformat_minor": 5
}

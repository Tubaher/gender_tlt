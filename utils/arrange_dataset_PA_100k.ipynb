{
 "cells": [
  {
   "cell_type": "code",
   "execution_count": 50,
   "metadata": {},
   "outputs": [],
   "source": [
    "from os.path import join, exists\n",
    "from os import listdir, makedirs\n",
    "import pandas as pd\n",
    "from shutil import copy\n",
    "import scipy.io"
   ]
  },
  {
   "cell_type": "code",
   "execution_count": 2,
   "metadata": {},
   "outputs": [
    {
     "name": "stdout",
     "output_type": "stream",
     "text": [
      "Female\t PA-100K-20210315T173115Z-001.zip  ReadMe.txt\r\n",
      "Male\t PETA\t\t\t\t   arrange_dataset_PA_100k.ipynb\r\n",
      "PA-100K  PETA.zip\t\t\t   arrange_dataset_PETA.ipynb\r\n"
     ]
    }
   ],
   "source": [
    "!ls"
   ]
  },
  {
   "cell_type": "code",
   "execution_count": 38,
   "metadata": {},
   "outputs": [],
   "source": [
    "dataset = 'PA-100K/data'\n",
    "labels_file ='PA-100K/annotation.mat'\n",
    "male_folder = 'Male_PA'\n",
    "female_folder = 'Female_PA'"
   ]
  },
  {
   "cell_type": "code",
   "execution_count": 4,
   "metadata": {},
   "outputs": [],
   "source": [
    "mat = scipy.io.loadmat(labels_file)"
   ]
  },
  {
   "cell_type": "code",
   "execution_count": 5,
   "metadata": {},
   "outputs": [
    {
     "name": "stdout",
     "output_type": "stream",
     "text": [
      "1. This is the README file for PA-100K dataset.\r",
      "\r\n",
      "\r",
      "\r\n",
      "2. The 100,000 pedestrian images are in folder data/.\r",
      "\r\n",
      "\r",
      "\r\n",
      "3. The annotation information is in annotation.mat. The variables in this file are listed as follows:\r",
      "\r\n",
      "    \"train_images_name\", \"val_images_name\" and \"test_images_name\" are names of training, validation and test images respectively.\r",
      "\r\n",
      "    \"train_label\", \"val_label\" and \"test_label\" are labels of images samples. It is of size n x 26, corresponding to n images in the corresponding set and 26 attributes.\r",
      "\r\n",
      "    \"attributes\" is a 26 x 1 cell, showing the 26 attributes' names.\r",
      "\r\n",
      "\r",
      "\r\n",
      "4. The project page is: \r",
      "\r\n",
      "\thttps://github.com/xh-liu/HydraPlus-Net/blob/master/README.md\r",
      "\r\n",
      "\r",
      "\r\n",
      "5. If you use the dataset, please cite this paper:\r",
      "\r\n",
      " HydraPlus-Net: Attentive Deep Features for Pedestrian Analysis\r",
      "\r\n"
     ]
    }
   ],
   "source": [
    "!cat PA-100K/README.txt"
   ]
  },
  {
   "cell_type": "code",
   "execution_count": 6,
   "metadata": {
    "scrolled": true
   },
   "outputs": [
    {
     "data": {
      "text/plain": [
       "{'__header__': b'MATLAB 5.0 MAT-file, Platform: PCWIN64, Created on: Wed Jul 26 13:11:29 2017',\n",
       " '__version__': '1.0',\n",
       " '__globals__': [],\n",
       " 'attributes': array([[array(['Female'], dtype='<U6')],\n",
       "        [array(['AgeOver60'], dtype='<U9')],\n",
       "        [array(['Age18-60'], dtype='<U8')],\n",
       "        [array(['AgeLess18'], dtype='<U9')],\n",
       "        [array(['Front'], dtype='<U5')],\n",
       "        [array(['Side'], dtype='<U4')],\n",
       "        [array(['Back'], dtype='<U4')],\n",
       "        [array(['Hat'], dtype='<U3')],\n",
       "        [array(['Glasses'], dtype='<U7')],\n",
       "        [array(['HandBag'], dtype='<U7')],\n",
       "        [array(['ShoulderBag'], dtype='<U11')],\n",
       "        [array(['Backpack'], dtype='<U8')],\n",
       "        [array(['HoldObjectsInFront'], dtype='<U18')],\n",
       "        [array(['ShortSleeve'], dtype='<U11')],\n",
       "        [array(['LongSleeve'], dtype='<U10')],\n",
       "        [array(['UpperStride'], dtype='<U11')],\n",
       "        [array(['UpperLogo'], dtype='<U9')],\n",
       "        [array(['UpperPlaid'], dtype='<U10')],\n",
       "        [array(['UpperSplice'], dtype='<U11')],\n",
       "        [array(['LowerStripe'], dtype='<U11')],\n",
       "        [array(['LowerPattern'], dtype='<U12')],\n",
       "        [array(['LongCoat'], dtype='<U8')],\n",
       "        [array(['Trousers'], dtype='<U8')],\n",
       "        [array(['Shorts'], dtype='<U6')],\n",
       "        [array(['Skirt&Dress'], dtype='<U11')],\n",
       "        [array(['boots'], dtype='<U5')]], dtype=object),\n",
       " 'test_images_name': array([[array(['090001.jpg'], dtype='<U10')],\n",
       "        [array(['090002.jpg'], dtype='<U10')],\n",
       "        [array(['090003.jpg'], dtype='<U10')],\n",
       "        ...,\n",
       "        [array(['099998.jpg'], dtype='<U10')],\n",
       "        [array(['099999.jpg'], dtype='<U10')],\n",
       "        [array(['100000.jpg'], dtype='<U10')]], dtype=object),\n",
       " 'test_label': array([[0, 0, 1, ..., 0, 0, 0],\n",
       "        [0, 0, 1, ..., 0, 0, 0],\n",
       "        [1, 0, 1, ..., 0, 0, 0],\n",
       "        ...,\n",
       "        [1, 0, 1, ..., 0, 0, 0],\n",
       "        [1, 0, 1, ..., 0, 0, 0],\n",
       "        [1, 0, 1, ..., 0, 0, 0]], dtype=uint8),\n",
       " 'train_images_name': array([[array(['000001.jpg'], dtype='<U10')],\n",
       "        [array(['000002.jpg'], dtype='<U10')],\n",
       "        [array(['000003.jpg'], dtype='<U10')],\n",
       "        ...,\n",
       "        [array(['079998.jpg'], dtype='<U10')],\n",
       "        [array(['079999.jpg'], dtype='<U10')],\n",
       "        [array(['080000.jpg'], dtype='<U10')]], dtype=object),\n",
       " 'train_label': array([[1, 0, 1, ..., 0, 0, 0],\n",
       "        [0, 0, 1, ..., 0, 0, 0],\n",
       "        [1, 0, 1, ..., 0, 0, 0],\n",
       "        ...,\n",
       "        [0, 0, 1, ..., 0, 0, 0],\n",
       "        [1, 0, 1, ..., 0, 0, 0],\n",
       "        [0, 0, 1, ..., 0, 0, 0]], dtype=uint8),\n",
       " 'val_images_name': array([[array(['080001.jpg'], dtype='<U10')],\n",
       "        [array(['080002.jpg'], dtype='<U10')],\n",
       "        [array(['080003.jpg'], dtype='<U10')],\n",
       "        ...,\n",
       "        [array(['089998.jpg'], dtype='<U10')],\n",
       "        [array(['089999.jpg'], dtype='<U10')],\n",
       "        [array(['090000.jpg'], dtype='<U10')]], dtype=object),\n",
       " 'val_label': array([[1, 0, 1, ..., 0, 1, 0],\n",
       "        [0, 0, 1, ..., 0, 0, 0],\n",
       "        [1, 0, 0, ..., 1, 0, 0],\n",
       "        ...,\n",
       "        [0, 0, 0, ..., 1, 0, 0],\n",
       "        [1, 0, 1, ..., 1, 0, 0],\n",
       "        [0, 0, 1, ..., 0, 0, 0]], dtype=uint8)}"
      ]
     },
     "execution_count": 6,
     "metadata": {},
     "output_type": "execute_result"
    }
   ],
   "source": [
    "mat"
   ]
  },
  {
   "cell_type": "code",
   "execution_count": 7,
   "metadata": {
    "scrolled": false
   },
   "outputs": [
    {
     "data": {
      "text/plain": [
       "array([[array(['000001.jpg'], dtype='<U10')],\n",
       "       [array(['000002.jpg'], dtype='<U10')],\n",
       "       [array(['000003.jpg'], dtype='<U10')],\n",
       "       ...,\n",
       "       [array(['079998.jpg'], dtype='<U10')],\n",
       "       [array(['079999.jpg'], dtype='<U10')],\n",
       "       [array(['080000.jpg'], dtype='<U10')]], dtype=object)"
      ]
     },
     "execution_count": 7,
     "metadata": {},
     "output_type": "execute_result"
    }
   ],
   "source": [
    "mat['train_images_name']"
   ]
  },
  {
   "cell_type": "code",
   "execution_count": 8,
   "metadata": {
    "scrolled": false
   },
   "outputs": [
    {
     "data": {
      "text/plain": [
       "array([[1, 0, 1, ..., 0, 0, 0],\n",
       "       [0, 0, 1, ..., 0, 0, 0],\n",
       "       [1, 0, 1, ..., 0, 0, 0],\n",
       "       ...,\n",
       "       [0, 0, 1, ..., 0, 0, 0],\n",
       "       [1, 0, 1, ..., 0, 0, 0],\n",
       "       [0, 0, 1, ..., 0, 0, 0]], dtype=uint8)"
      ]
     },
     "execution_count": 8,
     "metadata": {},
     "output_type": "execute_result"
    }
   ],
   "source": [
    "mat['train_label']"
   ]
  },
  {
   "cell_type": "code",
   "execution_count": 9,
   "metadata": {},
   "outputs": [
    {
     "data": {
      "text/plain": [
       "'000002.jpg'"
      ]
     },
     "execution_count": 9,
     "metadata": {},
     "output_type": "execute_result"
    }
   ],
   "source": [
    "mat['train_images_name'][1][0][0]"
   ]
  },
  {
   "cell_type": "code",
   "execution_count": 10,
   "metadata": {},
   "outputs": [
    {
     "data": {
      "text/plain": [
       "1"
      ]
     },
     "execution_count": 10,
     "metadata": {},
     "output_type": "execute_result"
    }
   ],
   "source": [
    "mat['train_label'][0][0]"
   ]
  },
  {
   "cell_type": "code",
   "execution_count": 11,
   "metadata": {},
   "outputs": [
    {
     "data": {
      "text/plain": [
       "(80000, 1)"
      ]
     },
     "execution_count": 11,
     "metadata": {},
     "output_type": "execute_result"
    }
   ],
   "source": [
    "mat['train_images_name'].shape"
   ]
  },
  {
   "cell_type": "code",
   "execution_count": 47,
   "metadata": {},
   "outputs": [],
   "source": [
    "#Folders to arrange images\n",
    "train_male = 'Male_PA'\n",
    "train_female = 'Female_PA'\n",
    "val_male = 'Male_PA_val'\n",
    "val_female = 'Female_PA_val'\n",
    "test_male = 'Male_PA_test'\n",
    "test_female = 'Female_PA_test'\n",
    "\n",
    "folders = [train_male, train_female, val_male, val_female, test_male, test_female]"
   ]
  },
  {
   "cell_type": "code",
   "execution_count": 52,
   "metadata": {},
   "outputs": [
    {
     "name": "stdout",
     "output_type": "stream",
     "text": [
      "Female\t\tMale_PA\t\t\t\t  PETA\r\n",
      "Female_PA\tMale_PA_test\t\t\t  PETA.zip\r\n",
      "Female_PA_test\tMale_PA_val\t\t\t  ReadMe.txt\r\n",
      "Female_PA_val\tPA-100K\t\t\t\t  arrange_dataset_PA_100k.ipynb\r\n",
      "Male\t\tPA-100K-20210315T173115Z-001.zip  arrange_dataset_PETA.ipynb\r\n"
     ]
    }
   ],
   "source": [
    "!ls"
   ]
  },
  {
   "cell_type": "code",
   "execution_count": 51,
   "metadata": {},
   "outputs": [],
   "source": [
    "for folder in folders:\n",
    "    if not exists(folder):\n",
    "        makedirs(folder)"
   ]
  },
  {
   "cell_type": "code",
   "execution_count": 57,
   "metadata": {},
   "outputs": [],
   "source": [
    "males = []\n",
    "females = []"
   ]
  },
  {
   "cell_type": "code",
   "execution_count": 58,
   "metadata": {},
   "outputs": [],
   "source": [
    "for idx, info in enumerate(mat['test_images_name']):\n",
    "    if mat['test_label'][idx][0] == 0:\n",
    "        males.append(info[0][0])\n",
    "    elif mat['test_label'][idx][0] == 1:\n",
    "        females.append(info[0][0])"
   ]
  },
  {
   "cell_type": "code",
   "execution_count": 59,
   "metadata": {},
   "outputs": [],
   "source": [
    "genders = {'males' : males, 'females' : females}"
   ]
  },
  {
   "cell_type": "code",
   "execution_count": 60,
   "metadata": {},
   "outputs": [],
   "source": [
    "for gender, items  in  genders.items():\n",
    "    for image in items:\n",
    "        if gender == 'males':\n",
    "            copy(join(dataset, image), test_male)\n",
    "        elif gender == 'females':\n",
    "            copy(join(dataset, image), test_female)\n",
    "        "
   ]
  },
  {
   "cell_type": "code",
   "execution_count": 69,
   "metadata": {},
   "outputs": [
    {
     "name": "stdout",
     "output_type": "stream",
     "text": [
      "Looking in indexes: https://pypi.org/simple, https://pypi.ngc.nvidia.com\n",
      "Collecting opencv-python\n",
      "  Downloading opencv_python-4.5.1.48-cp37-cp37m-manylinux2014_x86_64.whl (50.4 MB)\n",
      "\u001b[K     |████████████████████████████████| 50.4 MB 19.5 MB/s eta 0:00:01\n",
      "\u001b[?25hRequirement already satisfied: numpy>=1.14.5 in /home/ubuntu/anaconda3/lib/python3.7/site-packages (from opencv-python) (1.18.1)\n",
      "Installing collected packages: opencv-python\n",
      "Successfully installed opencv-python-4.5.1.48\n"
     ]
    }
   ],
   "source": [
    "!pip install opencv-python"
   ]
  },
  {
   "cell_type": "code",
   "execution_count": 70,
   "metadata": {},
   "outputs": [],
   "source": [
    "%matplotlib inline\n",
    "from matplotlib import pyplot as plt\n",
    "import numpy as np\n",
    "import cv2 as cv"
   ]
  },
  {
   "cell_type": "code",
   "execution_count": 75,
   "metadata": {},
   "outputs": [
    {
     "name": "stdout",
     "output_type": "stream",
     "text": [
      "(144, 55, 3)\n"
     ]
    },
    {
     "data": {
      "image/png": "[encoded data removed]",
      "text/plain": [
       "<Figure size 432x288 with 1 Axes>"
      ]
     },
     "metadata": {
      "needs_background": "light"
     },
     "output_type": "display_data"
    }
   ],
   "source": [
    "img = cv.imread(join(dataset, genders['females'][200]))[:,:,::-1]\n",
    "print(img.shape)\n",
    "plt.imshow(img)\n",
    "plt.show()"
   ]
  },
  {
   "cell_type": "code",
   "execution_count": null,
   "metadata": {},
   "outputs": [],
   "source": []
  }
 ],
 "metadata": {
  "kernelspec": {
   "display_name": "Python 3",
   "language": "python",
   "name": "python3"
  },
  "language_info": {
   "codemirror_mode": {
    "name": "ipython",
    "version": 3
   },
   "file_extension": ".py",
   "mimetype": "text/x-python",
   "name": "python",
   "nbconvert_exporter": "python",
   "pygments_lexer": "ipython3",
   "version": "3.7.6"
  }
 },
 "nbformat": 4,
 "nbformat_minor": 4
}

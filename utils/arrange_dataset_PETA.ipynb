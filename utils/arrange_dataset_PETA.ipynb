{
 "cells": [
  {
   "cell_type": "code",
   "execution_count": 76,
   "metadata": {},
   "outputs": [
    {
     "name": "stdout",
     "output_type": "stream",
     "text": [
      "Female\tMale  PETA  PETA.zip  ReadMe.txt  arrange_dataset_PETA.ipynb\r\n"
     ]
    }
   ],
   "source": [
    "!ls"
   ]
  },
  {
   "cell_type": "code",
   "execution_count": 57,
   "metadata": {},
   "outputs": [],
   "source": [
    "from os.path import join\n",
    "from os import listdir\n",
    "import pandas as pd\n",
    "from shutil import copy"
   ]
  },
  {
   "cell_type": "code",
   "execution_count": 72,
   "metadata": {},
   "outputs": [],
   "source": [
    "def extract_genders(labels_path):\n",
    "    males =[]\n",
    "    females = []\n",
    "    with open(labels_path, \"r\") as a_file:\n",
    "        for line in a_file:\n",
    "            stripped_line = line.strip().split()\n",
    "            if 'personalMale' in stripped_line:\n",
    "                males.append(stripped_line[0])\n",
    "            elif 'personalFemale' in stripped_line:\n",
    "                females.append(stripped_line[0])\n",
    "            else:\n",
    "                continue\n",
    "    genders ={ 'males' : males, 'females' : females}\n",
    "#     print(genders['females'])\n",
    "    return genders\n",
    "    "
   ]
  },
  {
   "cell_type": "code",
   "execution_count": 73,
   "metadata": {},
   "outputs": [],
   "source": [
    "def filter_gender_by_id(genders_dict, files):\n",
    "    males = []\n",
    "    females = []\n",
    "    \n",
    "    for file in files:\n",
    "        file_id = file.split('_')[0]\n",
    "        if file_id in genders_dict['males']:\n",
    "            males.append(file)\n",
    "        elif file_id in genders_dict['females']:\n",
    "            females.append(file)\n",
    "    \n",
    "    genders_files = {'males' : males, 'females' : females}\n",
    "#     print(genders_files['females'])\n",
    "    \n",
    "    return genders_files\n",
    "    \n",
    "    \n",
    "    "
   ]
  },
  {
   "cell_type": "code",
   "execution_count": 74,
   "metadata": {},
   "outputs": [],
   "source": [
    "dataset = 'PETA'\n",
    "labels_file ='Label.txt'\n",
    "folders = listdir(dataset)\n",
    "male_folder = 'Male'\n",
    "female_folder = 'Female'"
   ]
  },
  {
   "cell_type": "code",
   "execution_count": 75,
   "metadata": {},
   "outputs": [],
   "source": [
    "for folder in folders:\n",
    "    files_path = join(join(dataset, folder), 'archive')\n",
    "#     print('Files path: {}'.format(files_path))\n",
    "    files = listdir(files_path)\n",
    "    files.remove(labels_file)\n",
    "    genders_id = extract_genders(join(files_path,labels_file))\n",
    "    genders_files = filter_gender_by_id(genders_id, files)\n",
    "    for file in genders_files['males']:\n",
    "        copy(join(files_path, file), male_folder)\n",
    "    for file in genders_files['females']:\n",
    "        copy(join(files_path, file), female_folder)\n",
    "    \n",
    "        \n",
    "    "
   ]
  },
  {
   "cell_type": "code",
   "execution_count": null,
   "metadata": {},
   "outputs": [],
   "source": []
  }
 ],
 "metadata": {
  "kernelspec": {
   "display_name": "Python 3",
   "language": "python",
   "name": "python3"
  },
  "language_info": {
   "codemirror_mode": {
    "name": "ipython",
    "version": 3
   },
   "file_extension": ".py",
   "mimetype": "text/x-python",
   "name": "python",
   "nbconvert_exporter": "python",
   "pygments_lexer": "ipython3",
   "version": "3.7.6"
  }
 },
 "nbformat": 4,
 "nbformat_minor": 4
}

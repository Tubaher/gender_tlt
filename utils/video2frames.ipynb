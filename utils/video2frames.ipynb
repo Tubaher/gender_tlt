{
 "cells": [
  {
   "cell_type": "code",
   "execution_count": 3,
   "metadata": {
    "colab": {
     "base_uri": "https://localhost:8080/"
    },
    "executionInfo": {
     "elapsed": 402,
     "status": "ok",
     "timestamp": 1612877332842,
     "user": {
      "displayName": "Diego Suntaxi",
      "photoUrl": "",
      "userId": "05858340050378340204"
     },
     "user_tz": 300
    },
    "id": "ePZ9PIeCyepS",
    "outputId": "28c71fb5-a32b-4bdf-bdcf-c21447e23187"
   },
   "outputs": [
    {
     "name": "stdout",
     "output_type": "stream",
     "text": [
      "/content/gdrive/MyDrive/grapes_project/samples/uvas\n"
     ]
    }
   ],
   "source": [
    "!"
   ]
  },
  {
   "cell_type": "code",
   "execution_count": 24,
   "metadata": {
    "executionInfo": {
     "elapsed": 405,
     "status": "ok",
     "timestamp": 1612882841226,
     "user": {
      "displayName": "Diego Suntaxi",
      "photoUrl": "",
      "userId": "05858340050378340204"
     },
     "user_tz": 300
    },
    "id": "3idrVXS1um-L"
   },
   "outputs": [],
   "source": [
    "import cv2\n",
    "import os"
   ]
  },
  {
   "cell_type": "code",
   "execution_count": null,
   "metadata": {
    "id": "m0zoJTm5KdHX"
   },
   "outputs": [],
   "source": [
    "!bash utils/mp42avi.sh"
   ]
  },
  {
   "cell_type": "code",
   "execution_count": 34,
   "metadata": {
    "executionInfo": {
     "elapsed": 351,
     "status": "ok",
     "timestamp": 1612884431935,
     "user": {
      "displayName": "Diego Suntaxi",
      "photoUrl": "",
      "userId": "05858340050378340204"
     },
     "user_tz": 300
    },
    "id": "1ZtwU3sN2k0m"
   },
   "outputs": [],
   "source": [
    "IMG_STEP = 2 #Interval from image to image (in secs) \n",
    "VIDEOS_DIR = 'stuff/input_videos/processed/ConchayToro_test/'\n",
    "FILE = 'Hilera_1_4_8_1.avi' #name of the video\n",
    "OUTPUT_DIR = 'stuff/dataset/ConchayToro_test/frames/'"
   ]
  },
  {
   "cell_type": "code",
   "execution_count": 35,
   "metadata": {
    "colab": {
     "base_uri": "https://localhost:8080/"
    },
    "executionInfo": {
     "elapsed": 73582,
     "status": "ok",
     "timestamp": 1612884506484,
     "user": {
      "displayName": "Diego Suntaxi",
      "photoUrl": "",
      "userId": "05858340050378340204"
     },
     "user_tz": 300
    },
    "id": "CPsMMDcauitf",
    "outputId": "d39a9b9e-e894-4f61-e779-1d9e2cea839b"
   },
   "outputs": [
    {
     "name": "stdout",
     "output_type": "stream",
     "text": [
      "Saved new frame 0\n",
      "Saved new frame 120\n",
      "Saved new frame 240\n",
      "Saved new frame 360\n",
      "Saved new frame 480\n",
      "Saved new frame 600\n",
      "Saved new frame 720\n",
      "Saved new frame 840\n",
      "Saved new frame 960\n",
      "Saved new frame 1080\n",
      "Saved new frame 1200\n",
      "Saved new frame 1320\n",
      "Saved new frame 1440\n",
      "Saved new frame 1560\n",
      "Saved new frame 1680\n",
      "Saved new frame 1800\n",
      "Saved new frame 1920\n",
      "Saved new frame 2040\n",
      "Saved new frame 2160\n",
      "Saved new frame 2280\n",
      "Saved new frame 2400\n",
      "Saved new frame 2520\n",
      "Saved new frame 2640\n",
      "Saved new frame 2760\n",
      "Saved new frame 2880\n",
      "Saved new frame 3000\n",
      "Saved new frame 3120\n",
      "Saved new frame 3240\n",
      "Saved new frame 3360\n",
      "Saved new frame 3480\n",
      "Saved new frame 3600\n",
      "Saved new frame 3720\n"
     ]
    }
   ],
   "source": [
    "vidcap = cv2.VideoCapture(os.path.join(VIDEOS_DIR,FILE))\n",
    "FPS = 60\n",
    "success,image = vidcap.read()\n",
    "count = 0\n",
    "while success:\n",
    "  success,image = vidcap.read()\n",
    "  # print(success)\n",
    "  if count%(FPS*IMG_STEP) == 0:\n",
    "    # print('entra')\n",
    "    output = os.path.join(OUTPUT_DIR, FILE)\n",
    "    cv2.imwrite(output + '_frame%d.jpg' % count, image)     # save frame as JPEG file      \n",
    "    print('Saved new frame', count)\n",
    "  count += 1"
   ]
  },
  {
   "cell_type": "code",
   "execution_count": 36,
   "metadata": {
    "colab": {
     "base_uri": "https://localhost:8080/"
    },
    "executionInfo": {
     "elapsed": 459,
     "status": "ok",
     "timestamp": 1612884672931,
     "user": {
      "displayName": "Diego Suntaxi",
      "photoUrl": "",
      "userId": "05858340050378340204"
     },
     "user_tz": 300
    },
    "id": "SAHbL59x6LDA",
    "outputId": "0fe8ffc1-fe5f-49f7-d031-8c7efc249d14"
   },
   "outputs": [
    {
     "name": "stdout",
     "output_type": "stream",
     "text": [
      "Hilera_1_4_4_1.avi_frame0.jpg\t  Hilera_1_4_5_1.avi_frame2400.jpg\n",
      "Hilera_1_4_4_1.avi_frame1080.jpg  Hilera_1_4_5_1.avi_frame240.jpg\n",
      "Hilera_1_4_4_1.avi_frame1200.jpg  Hilera_1_4_5_1.avi_frame2520.jpg\n",
      "Hilera_1_4_4_1.avi_frame120.jpg   Hilera_1_4_5_1.avi_frame2640.jpg\n",
      "Hilera_1_4_4_1.avi_frame1320.jpg  Hilera_1_4_5_1.avi_frame2760.jpg\n",
      "Hilera_1_4_4_1.avi_frame1440.jpg  Hilera_1_4_5_1.avi_frame2880.jpg\n",
      "Hilera_1_4_4_1.avi_frame1560.jpg  Hilera_1_4_5_1.avi_frame3000.jpg\n",
      "Hilera_1_4_4_1.avi_frame1680.jpg  Hilera_1_4_5_1.avi_frame3120.jpg\n",
      "Hilera_1_4_4_1.avi_frame1800.jpg  Hilera_1_4_5_1.avi_frame3240.jpg\n",
      "Hilera_1_4_4_1.avi_frame1920.jpg  Hilera_1_4_5_1.avi_frame3360.jpg\n",
      "Hilera_1_4_4_1.avi_frame2040.jpg  Hilera_1_4_5_1.avi_frame3480.jpg\n",
      "Hilera_1_4_4_1.avi_frame2160.jpg  Hilera_1_4_5_1.avi_frame3600.jpg\n",
      "Hilera_1_4_4_1.avi_frame2280.jpg  Hilera_1_4_5_1.avi_frame360.jpg\n",
      "Hilera_1_4_4_1.avi_frame2400.jpg  Hilera_1_4_5_1.avi_frame3720.jpg\n",
      "Hilera_1_4_4_1.avi_frame240.jpg   Hilera_1_4_5_1.avi_frame480.jpg\n",
      "Hilera_1_4_4_1.avi_frame2520.jpg  Hilera_1_4_5_1.avi_frame600.jpg\n",
      "Hilera_1_4_4_1.avi_frame2640.jpg  Hilera_1_4_5_1.avi_frame720.jpg\n",
      "Hilera_1_4_4_1.avi_frame2760.jpg  Hilera_1_4_5_1.avi_frame840.jpg\n",
      "Hilera_1_4_4_1.avi_frame2880.jpg  Hilera_1_4_5_1.avi_frame960.jpg\n",
      "Hilera_1_4_4_1.avi_frame3000.jpg  Hilera_1_4_8_1.avi_frame0.jpg\n",
      "Hilera_1_4_4_1.avi_frame3120.jpg  Hilera_1_4_8_1.avi_frame1080.jpg\n",
      "Hilera_1_4_4_1.avi_frame3240.jpg  Hilera_1_4_8_1.avi_frame1200.jpg\n",
      "Hilera_1_4_4_1.avi_frame3360.jpg  Hilera_1_4_8_1.avi_frame120.jpg\n",
      "Hilera_1_4_4_1.avi_frame3480.jpg  Hilera_1_4_8_1.avi_frame1320.jpg\n",
      "Hilera_1_4_4_1.avi_frame3600.jpg  Hilera_1_4_8_1.avi_frame1440.jpg\n",
      "Hilera_1_4_4_1.avi_frame360.jpg   Hilera_1_4_8_1.avi_frame1560.jpg\n",
      "Hilera_1_4_4_1.avi_frame3720.jpg  Hilera_1_4_8_1.avi_frame1680.jpg\n",
      "Hilera_1_4_4_1.avi_frame3840.jpg  Hilera_1_4_8_1.avi_frame1800.jpg\n",
      "Hilera_1_4_4_1.avi_frame480.jpg   Hilera_1_4_8_1.avi_frame1920.jpg\n",
      "Hilera_1_4_4_1.avi_frame600.jpg   Hilera_1_4_8_1.avi_frame2040.jpg\n",
      "Hilera_1_4_4_1.avi_frame720.jpg   Hilera_1_4_8_1.avi_frame2160.jpg\n",
      "Hilera_1_4_4_1.avi_frame840.jpg   Hilera_1_4_8_1.avi_frame2280.jpg\n",
      "Hilera_1_4_4_1.avi_frame960.jpg   Hilera_1_4_8_1.avi_frame2400.jpg\n",
      "Hilera_1_4_5_1.avi_frame0.jpg\t  Hilera_1_4_8_1.avi_frame2520.jpg\n",
      "Hilera_1_4_5_1.avi_frame1080.jpg  Hilera_1_4_8_1.avi_frame2640.jpg\n",
      "Hilera_1_4_5_1.avi_frame1200.jpg  Hilera_1_4_8_1.avi_frame2760.jpg\n",
      "Hilera_1_4_5_1.avi_frame120.jpg   Hilera_1_4_8_1.avi_frame2880.jpg\n",
      "Hilera_1_4_5_1.avi_frame1320.jpg  Hilera_1_4_8_1.avi_frame3000.jpg\n",
      "Hilera_1_4_5_1.avi_frame1440.jpg  Hilera_1_4_8_1.avi_frame3120.jpg\n",
      "Hilera_1_4_5_1.avi_frame1560.jpg  Hilera_1_4_8_1.avi_frame3240.jpg\n",
      "Hilera_1_4_5_1.avi_frame1680.jpg  Hilera_1_4_8_1.avi_frame360.jpg\n",
      "Hilera_1_4_5_1.avi_frame1800.jpg  Hilera_1_4_8_1.avi_frame480.jpg\n",
      "Hilera_1_4_5_1.avi_frame1920.jpg  Hilera_1_4_8_1.avi_frame600.jpg\n",
      "Hilera_1_4_5_1.avi_frame2040.jpg  Hilera_1_4_8_1.avi_frame720.jpg\n",
      "Hilera_1_4_5_1.avi_frame2160.jpg  Hilera_1_4_8_1.avi_frame840.jpg\n",
      "Hilera_1_4_5_1.avi_frame2280.jpg  Hilera_1_4_8_1.avi_frame960.jpg\n"
     ]
    }
   ],
   "source": [
    "!ls stuff/dataset/ConchayToro_test/frames"
   ]
  },
  {
   "cell_type": "code",
   "execution_count": 43,
   "metadata": {
    "executionInfo": {
     "elapsed": 526,
     "status": "ok",
     "timestamp": 1612884980953,
     "user": {
      "displayName": "Diego Suntaxi",
      "photoUrl": "",
      "userId": "05858340050378340204"
     },
     "user_tz": 300
    },
    "id": "skgnTqYH1SfF"
   },
   "outputs": [],
   "source": [
    "!mv Hilera_1_4_5_1.avi_frame2400.jpg \\\n",
    "Hilera_1_4_5_1.avi_frame240.jpg \\\n",
    "Hilera_1_4_5_1.avi_frame2520.jpg \\\n",
    "Hilera_1_4_5_1.avi_frame2640.jpg \\\n",
    "Hilera_1_4_5_1.avi_frame2760.jpg \\\n",
    "Hilera_1_4_5_1.avi_frame2880.jpg \\\n",
    "Hilera_1_4_5_1.avi_frame3000.jpg \\\n",
    "Hilera_1_4_5_1.avi_frame3120.jpg \\\n",
    "Hilera_1_4_5_1.avi_frame3240.jpg \\\n",
    "Hilera_1_4_5_1.avi_frame3360.jpg \\\n",
    "Hilera_1_4_5_1.avi_frame3480.jpg \\\n",
    "Hilera_1_4_5_1.avi_frame3600.jpg \\\n",
    "Hilera_1_4_5_1.avi_frame360.jpg \\\n",
    "Hilera_1_4_5_1.avi_frame3720.jpg \\\n",
    "Hilera_1_4_5_1.avi_frame480.jpg \\\n",
    "Hilera_1_4_5_1.avi_frame600.jpg \\\n",
    "Hilera_1_4_5_1.avi_frame720.jpg \\\n",
    "Hilera_1_4_5_1.avi_frame840.jpg \\\n",
    "Hilera_1_4_5_1.avi_frame960.jpg \\\n",
    "Hilera_1_4_8_1.avi_frame0.jpg \\\n",
    "Hilera_1_4_8_1.avi_frame1080.jpg \\\n",
    "Hilera_1_4_8_1.avi_frame1200.jpg \\\n",
    "Hilera_1_4_8_1.avi_frame120.jpg \\\n",
    "Hilera_1_4_8_1.avi_frame1320.jpg \\\n",
    "Hilera_1_4_8_1.avi_frame1440.jpg \\\n",
    "Hilera_1_4_8_1.avi_frame1560.jpg \\\n",
    "Hilera_1_4_8_1.avi_frame1680.jpg \\\n",
    "Hilera_1_4_8_1.avi_frame1800.jpg \\\n",
    "Hilera_1_4_8_1.avi_frame1920.jpg \\\n",
    "Hilera_1_4_8_1.avi_frame2040.jpg \\\n",
    "Hilera_1_4_8_1.avi_frame2160.jpg \\\n",
    "Hilera_1_4_8_1.avi_frame2280.jpg \\\n",
    "Hilera_1_4_8_1.avi_frame2400.jpg \\\n",
    "Hilera_1_4_8_1.avi_frame2520.jpg \\\n",
    "Hilera_1_4_8_1.avi_frame2640.jpg \\\n",
    "Hilera_1_4_8_1.avi_frame2760.jpg \\\n",
    "Hilera_1_4_8_1.avi_frame2880.jpg \\\n",
    "Hilera_1_4_8_1.avi_frame3000.jpg \\\n",
    "Hilera_1_4_8_1.avi_frame3120.jpg \\\n",
    "Hilera_1_4_8_1.avi_frame3240.jpg \\\n",
    "Hilera_1_4_8_1.avi_frame360.jpg \\\n",
    "Hilera_1_4_8_1.avi_frame480.jpg \\\n",
    "Hilera_1_4_8_1.avi_frame600.jpg \\\n",
    "Hilera_1_4_8_1.avi_frame720.jpg \\\n",
    "Hilera_1_4_8_1.avi_frame840.jpg \\\n",
    "Hilera_1_4_8_1.avi_frame960.jpg \\\n",
    "../oscar/"
   ]
  },
  {
   "cell_type": "code",
   "execution_count": 42,
   "metadata": {
    "executionInfo": {
     "elapsed": 367,
     "status": "ok",
     "timestamp": 1612884947894,
     "user": {
      "displayName": "Diego Suntaxi",
      "photoUrl": "",
      "userId": "05858340050378340204"
     },
     "user_tz": 300
    },
    "id": "3h70wJ9lbEd1"
   },
   "outputs": [],
   "source": [
    "!mkdir ../oscar"
   ]
  },
  {
   "cell_type": "code",
   "execution_count": 40,
   "metadata": {
    "colab": {
     "base_uri": "https://localhost:8080/"
    },
    "executionInfo": {
     "elapsed": 345,
     "status": "ok",
     "timestamp": 1612884892437,
     "user": {
      "displayName": "Diego Suntaxi",
      "photoUrl": "",
      "userId": "05858340050378340204"
     },
     "user_tz": 300
    },
    "id": "cwTQzmxMbTqW",
    "outputId": "9cc14c4f-5b34-4d92-e3cd-cdb117192476"
   },
   "outputs": [
    {
     "name": "stdout",
     "output_type": "stream",
     "text": [
      "/content/gdrive/My Drive/grapes_project/samples/uvas/stuff/dataset/ConchayToro_test/frames\n"
     ]
    }
   ],
   "source": [
    "%cd frames"
   ]
  },
  {
   "cell_type": "code",
   "execution_count": 41,
   "metadata": {
    "executionInfo": {
     "elapsed": 523,
     "status": "ok",
     "timestamp": 1612884900798,
     "user": {
      "displayName": "Diego Suntaxi",
      "photoUrl": "",
      "userId": "05858340050378340204"
     },
     "user_tz": 300
    },
    "id": "SdEpbUFU1TZl"
   },
   "outputs": [],
   "source": [
    "!mv Hilera_1_4_4_1.avi_frame0.jpg \\\n",
    "Hilera_1_4_4_1.avi_frame1080.jpg \\\n",
    "Hilera_1_4_4_1.avi_frame1200.jpg \\\n",
    "Hilera_1_4_4_1.avi_frame120.jpg  \\\n",
    "Hilera_1_4_4_1.avi_frame1320.jpg \\\n",
    "Hilera_1_4_4_1.avi_frame1440.jpg \\\n",
    "Hilera_1_4_4_1.avi_frame1560.jpg \\\n",
    "Hilera_1_4_4_1.avi_frame1680.jpg \\\n",
    "Hilera_1_4_4_1.avi_frame1800.jpg \\\n",
    "Hilera_1_4_4_1.avi_frame1920.jpg \\\n",
    "Hilera_1_4_4_1.avi_frame2040.jpg \\\n",
    "Hilera_1_4_4_1.avi_frame2160.jpg \\\n",
    "Hilera_1_4_4_1.avi_frame2280.jpg \\\n",
    "Hilera_1_4_4_1.avi_frame2400.jpg \\\n",
    "Hilera_1_4_4_1.avi_frame240.jpg  \\\n",
    "Hilera_1_4_4_1.avi_frame2520.jpg \\\n",
    "Hilera_1_4_4_1.avi_frame2640.jpg \\\n",
    "Hilera_1_4_4_1.avi_frame2760.jpg \\\n",
    "Hilera_1_4_4_1.avi_frame2880.jpg \\\n",
    "Hilera_1_4_4_1.avi_frame3000.jpg \\\n",
    "Hilera_1_4_4_1.avi_frame3120.jpg \\\n",
    "Hilera_1_4_4_1.avi_frame3240.jpg \\\n",
    "Hilera_1_4_4_1.avi_frame3360.jpg \\\n",
    "Hilera_1_4_4_1.avi_frame3480.jpg \\\n",
    "Hilera_1_4_4_1.avi_frame3600.jpg \\\n",
    "Hilera_1_4_4_1.avi_frame360.jpg  \\\n",
    "Hilera_1_4_4_1.avi_frame3720.jpg \\\n",
    "Hilera_1_4_4_1.avi_frame3840.jpg \\\n",
    "Hilera_1_4_4_1.avi_frame480.jpg  \\\n",
    "Hilera_1_4_4_1.avi_frame600.jpg  \\\n",
    "Hilera_1_4_4_1.avi_frame720.jpg  \\\n",
    "Hilera_1_4_4_1.avi_frame840.jpg  \\\n",
    "Hilera_1_4_4_1.avi_frame960.jpg  \\\n",
    "Hilera_1_4_5_1.avi_frame0.jpg\t   \\\n",
    "Hilera_1_4_5_1.avi_frame1080.jpg \\\n",
    "Hilera_1_4_5_1.avi_frame1200.jpg \\\n",
    "Hilera_1_4_5_1.avi_frame120.jpg  \\\n",
    "Hilera_1_4_5_1.avi_frame1320.jpg \\\n",
    "Hilera_1_4_5_1.avi_frame1440.jpg \\\n",
    "Hilera_1_4_5_1.avi_frame1560.jpg \\\n",
    "Hilera_1_4_5_1.avi_frame1680.jpg \\\n",
    "Hilera_1_4_5_1.avi_frame1800.jpg \\\n",
    "Hilera_1_4_5_1.avi_frame1920.jpg \\\n",
    "Hilera_1_4_5_1.avi_frame2040.jpg \\\n",
    "Hilera_1_4_5_1.avi_frame2160.jpg \\\n",
    "Hilera_1_4_5_1.avi_frame2280.jpg \\\n",
    "../diego"
   ]
  },
  {
   "cell_type": "markdown",
   "metadata": {
    "id": "2xCug1AQ1UvG"
   },
   "source": []
  }
 ],
 "metadata": {
  "colab": {
   "collapsed_sections": [],
   "name": "video2frames.ipynb",
   "provenance": []
  },
  "kernelspec": {
   "display_name": "Environment (conda_tlt3_gender)",
   "language": "python",
   "name": "conda_tlt3_gender"
  },
  "language_info": {
   "codemirror_mode": {
    "name": "ipython",
    "version": 3
   },
   "file_extension": ".py",
   "mimetype": "text/x-python",
   "name": "python",
   "nbconvert_exporter": "python",
   "pygments_lexer": "ipython3",
   "version": "3.7.10"
  }
 },
 "nbformat": 4,
 "nbformat_minor": 1
}
